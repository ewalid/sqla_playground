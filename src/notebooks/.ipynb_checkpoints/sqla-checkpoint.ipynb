{
 "cells": [
  {
   "cell_type": "code",
   "execution_count": 1,
   "metadata": {},
   "outputs": [],
   "source": [
    "from sqlalchemy import create_engine\n",
    "from sqlalchemy import Column, Integer, String, Text, DateTime, Float, Boolean, ForeignKey, Table\n",
    "from sqlalchemy.orm import relationship\n",
    "from sqlalchemy.orm import sessionmaker\n",
    "from sqlalchemy.ext.declarative import declarative_base"
   ]
  },
  {
   "cell_type": "code",
   "execution_count": 2,
   "metadata": {},
   "outputs": [],
   "source": [
    "DB_URI = 'postgresql://postgres@localhost:5532/sqla'\n",
    "engine = create_engine(DB_URI, echo=True)\n",
    "Session = sessionmaker(bind=engine)\n",
    "s = Session()"
   ]
  },
  {
   "cell_type": "code",
   "execution_count": 3,
   "metadata": {},
   "outputs": [
    {
     "ename": "NameError",
     "evalue": "name 'Base' is not defined",
     "output_type": "error",
     "traceback": [
      "\u001b[0;31m---------------------------------------------------------------------------\u001b[0m",
      "\u001b[0;31mNameError\u001b[0m                                 Traceback (most recent call last)",
      "\u001b[0;32m<ipython-input-3-c3e759851cfa>\u001b[0m in \u001b[0;36m<module>\u001b[0;34m\u001b[0m\n\u001b[1;32m      1\u001b[0m \u001b[0;31m# /!\\ DROP MODEL IN DB /!\\\u001b[0m\u001b[0;34m\u001b[0m\u001b[0;34m\u001b[0m\u001b[0;34m\u001b[0m\u001b[0m\n\u001b[0;32m----> 2\u001b[0;31m \u001b[0mBase\u001b[0m\u001b[0;34m.\u001b[0m\u001b[0mmetadata\u001b[0m\u001b[0;34m.\u001b[0m\u001b[0mdrop_all\u001b[0m\u001b[0;34m(\u001b[0m\u001b[0mbind\u001b[0m\u001b[0;34m=\u001b[0m\u001b[0mengine\u001b[0m\u001b[0;34m)\u001b[0m\u001b[0;34m\u001b[0m\u001b[0;34m\u001b[0m\u001b[0m\n\u001b[0m\u001b[1;32m      3\u001b[0m \u001b[0mBase\u001b[0m \u001b[0;34m=\u001b[0m \u001b[0mdeclarative_base\u001b[0m\u001b[0;34m(\u001b[0m\u001b[0;34m)\u001b[0m\u001b[0;34m\u001b[0m\u001b[0;34m\u001b[0m\u001b[0m\n",
      "\u001b[0;31mNameError\u001b[0m: name 'Base' is not defined"
     ]
    }
   ],
   "source": [
    "# /!\\ DROP MODEL IN DB /!\\\n",
    "Base.metadata.drop_all(bind=engine)\n",
    "Base = declarative_base()"
   ]
  },
  {
   "cell_type": "code",
   "execution_count": null,
   "metadata": {},
   "outputs": [],
   "source": [
    "Base = declarative_base()"
   ]
  },
  {
   "cell_type": "code",
   "execution_count": 145,
   "metadata": {},
   "outputs": [],
   "source": [
    "DB_URI = 'postgresql://postgres@localhost:5532/sqla'\n",
    "engine = create_engine(DB_URI, echo=True)\n",
    "Session = sessionmaker(bind=engine)\n",
    "s = Session()\n",
    "s.rollback()"
   ]
  },
  {
   "cell_type": "code",
   "execution_count": 146,
   "metadata": {},
   "outputs": [],
   "source": [
    "def populate(model, rows):\n",
    "    s.add_all([model(**row) for row in rows])\n",
    "    s.commit()"
   ]
  },
  {
   "cell_type": "code",
   "execution_count": 147,
   "metadata": {},
   "outputs": [],
   "source": [
    "def create(model):\n",
    "    s.add(model)\n",
    "    s.commit()"
   ]
  },
  {
   "cell_type": "code",
   "execution_count": 148,
   "metadata": {},
   "outputs": [],
   "source": [
    "\"\"\"\n",
    "A basic Many to One Relationship\n",
    "\"\"\"\n",
    "\n",
    "class PlayerModel(Base):\n",
    "    \"\"\"Data model for players.\"\"\"\n",
    "    __tablename__ = \"players\"\n",
    "\n",
    "    id = Column(Integer,\n",
    "                primary_key=True,\n",
    "                nullable=False)\n",
    "    team_id = Column(Integer,\n",
    "                     ForeignKey('teams.id'),\n",
    "                     nullable=False)\n",
    "    name = Column(String(100),\n",
    "                  nullable=False)\n",
    "    position = Column(String(100),\n",
    "                      nullable=False)\n",
    "\n",
    "    # Relationships\n",
    "    team = relationship(\"TeamModel\", backref=\"players\")\n",
    "    \n",
    "    def __repr__(self):\n",
    "        return '<Person model {}>'.format(self.id)\n",
    "\n",
    "\n",
    "class TeamModel(Base):\n",
    "    \"\"\"Data model for people.\"\"\"\n",
    "    __tablename__ = \"teams\"\n",
    "\n",
    "    id = Column(Integer,\n",
    "                primary_key=True,\n",
    "                nullable=False,\n",
    "    )\n",
    "    name = Column(String(100),\n",
    "                  nullable=False)\n",
    "    city = Column(String(100),\n",
    "                  nullable=False)\n",
    "\n",
    "    def __repr__(self):\n",
    "        return '<Team model {}>'.format(self.id)"
   ]
  },
  {
   "cell_type": "code",
   "execution_count": 149,
   "metadata": {},
   "outputs": [],
   "source": [
    "# PlayerModel.__table__.drop(engine)\n",
    "# TeamModel.__table__.drop(engine)"
   ]
  },
  {
   "cell_type": "code",
   "execution_count": 150,
   "metadata": {},
   "outputs": [],
   "source": [
    "\n",
    "\n",
    "association_table = Table('association', Base.metadata,\n",
    "    Column('left_id', Integer, ForeignKey('left.id')),\n",
    "    Column('right_id', String, ForeignKey('right.id'))\n",
    ")\n",
    "\n",
    "\n",
    "class Parent(Base):\n",
    "    __tablename__ = 'left'\n",
    "    id = Column(Integer, primary_key=True)\n",
    "    name = Column(String, nullable=False)\n",
    "    children = relationship(\n",
    "        \"Child\",\n",
    "        secondary=association_table,\n",
    "        back_populates=\"parents\")\n",
    "\n",
    "\n",
    "class Child(Base):\n",
    "    __tablename__ = 'right'\n",
    "    id = Column(String, primary_key=True, )\n",
    "    parents = relationship(\n",
    "        \"Parent\",\n",
    "        secondary=association_table,\n",
    "        back_populates=\"children\")"
   ]
  },
  {
   "cell_type": "code",
   "execution_count": 151,
   "metadata": {},
   "outputs": [],
   "source": [
    "# association_table.drop(engine)\n",
    "# Child.__table__.drop(engine)\n",
    "# Parent.__table__.drop(engine)"
   ]
  },
  {
   "cell_type": "code",
   "execution_count": 152,
   "metadata": {},
   "outputs": [
    {
     "name": "stdout",
     "output_type": "stream",
     "text": [
      "2020-02-04 02:10:19,041 INFO sqlalchemy.engine.base.Engine select version()\n",
      "2020-02-04 02:10:19,043 INFO sqlalchemy.engine.base.Engine {}\n",
      "2020-02-04 02:10:19,047 INFO sqlalchemy.engine.base.Engine select current_schema()\n",
      "2020-02-04 02:10:19,048 INFO sqlalchemy.engine.base.Engine {}\n",
      "2020-02-04 02:10:19,053 INFO sqlalchemy.engine.base.Engine SELECT CAST('test plain returns' AS VARCHAR(60)) AS anon_1\n",
      "2020-02-04 02:10:19,054 INFO sqlalchemy.engine.base.Engine {}\n",
      "2020-02-04 02:10:19,059 INFO sqlalchemy.engine.base.Engine SELECT CAST('test unicode returns' AS VARCHAR(60)) AS anon_1\n",
      "2020-02-04 02:10:19,060 INFO sqlalchemy.engine.base.Engine {}\n",
      "2020-02-04 02:10:19,067 INFO sqlalchemy.engine.base.Engine show standard_conforming_strings\n",
      "2020-02-04 02:10:19,069 INFO sqlalchemy.engine.base.Engine {}\n",
      "2020-02-04 02:10:19,073 INFO sqlalchemy.engine.base.Engine select relname from pg_class c join pg_namespace n on n.oid=c.relnamespace where pg_catalog.pg_table_is_visible(c.oid) and relname=%(name)s\n",
      "2020-02-04 02:10:19,074 INFO sqlalchemy.engine.base.Engine {'name': u'players'}\n",
      "2020-02-04 02:10:19,078 INFO sqlalchemy.engine.base.Engine select relname from pg_class c join pg_namespace n on n.oid=c.relnamespace where pg_catalog.pg_table_is_visible(c.oid) and relname=%(name)s\n",
      "2020-02-04 02:10:19,080 INFO sqlalchemy.engine.base.Engine {'name': u'left'}\n",
      "2020-02-04 02:10:19,084 INFO sqlalchemy.engine.base.Engine select relname from pg_class c join pg_namespace n on n.oid=c.relnamespace where pg_catalog.pg_table_is_visible(c.oid) and relname=%(name)s\n",
      "2020-02-04 02:10:19,086 INFO sqlalchemy.engine.base.Engine {'name': u'right'}\n",
      "2020-02-04 02:10:19,090 INFO sqlalchemy.engine.base.Engine select relname from pg_class c join pg_namespace n on n.oid=c.relnamespace where pg_catalog.pg_table_is_visible(c.oid) and relname=%(name)s\n",
      "2020-02-04 02:10:19,092 INFO sqlalchemy.engine.base.Engine {'name': u'association'}\n",
      "2020-02-04 02:10:19,095 INFO sqlalchemy.engine.base.Engine select relname from pg_class c join pg_namespace n on n.oid=c.relnamespace where pg_catalog.pg_table_is_visible(c.oid) and relname=%(name)s\n",
      "2020-02-04 02:10:19,097 INFO sqlalchemy.engine.base.Engine {'name': u'teams'}\n",
      "2020-02-04 02:10:19,103 INFO sqlalchemy.engine.base.Engine \n",
      "CREATE TABLE \"left\" (\n",
      "\tid SERIAL NOT NULL, \n",
      "\tname VARCHAR NOT NULL, \n",
      "\tPRIMARY KEY (id)\n",
      ")\n",
      "\n",
      "\n",
      "2020-02-04 02:10:19,105 INFO sqlalchemy.engine.base.Engine {}\n",
      "2020-02-04 02:10:19,120 INFO sqlalchemy.engine.base.Engine COMMIT\n",
      "2020-02-04 02:10:19,126 INFO sqlalchemy.engine.base.Engine \n",
      "CREATE TABLE \"right\" (\n",
      "\tid VARCHAR NOT NULL, \n",
      "\tPRIMARY KEY (id)\n",
      ")\n",
      "\n",
      "\n",
      "2020-02-04 02:10:19,127 INFO sqlalchemy.engine.base.Engine {}\n",
      "2020-02-04 02:10:19,138 INFO sqlalchemy.engine.base.Engine COMMIT\n",
      "2020-02-04 02:10:19,143 INFO sqlalchemy.engine.base.Engine \n",
      "CREATE TABLE teams (\n",
      "\tid SERIAL NOT NULL, \n",
      "\tname VARCHAR(100) NOT NULL, \n",
      "\tcity VARCHAR(100) NOT NULL, \n",
      "\tPRIMARY KEY (id)\n",
      ")\n",
      "\n",
      "\n",
      "2020-02-04 02:10:19,144 INFO sqlalchemy.engine.base.Engine {}\n",
      "2020-02-04 02:10:19,152 INFO sqlalchemy.engine.base.Engine COMMIT\n",
      "2020-02-04 02:10:19,159 INFO sqlalchemy.engine.base.Engine \n",
      "CREATE TABLE players (\n",
      "\tid SERIAL NOT NULL, \n",
      "\tteam_id INTEGER NOT NULL, \n",
      "\tname VARCHAR(100) NOT NULL, \n",
      "\tposition VARCHAR(100) NOT NULL, \n",
      "\tPRIMARY KEY (id), \n",
      "\tFOREIGN KEY(team_id) REFERENCES teams (id)\n",
      ")\n",
      "\n",
      "\n",
      "2020-02-04 02:10:19,160 INFO sqlalchemy.engine.base.Engine {}\n",
      "2020-02-04 02:10:19,173 INFO sqlalchemy.engine.base.Engine COMMIT\n",
      "2020-02-04 02:10:19,178 INFO sqlalchemy.engine.base.Engine \n",
      "CREATE TABLE association (\n",
      "\tleft_id INTEGER, \n",
      "\tright_id VARCHAR, \n",
      "\tFOREIGN KEY(left_id) REFERENCES \"left\" (id), \n",
      "\tFOREIGN KEY(right_id) REFERENCES \"right\" (id)\n",
      ")\n",
      "\n",
      "\n",
      "2020-02-04 02:10:19,180 INFO sqlalchemy.engine.base.Engine {}\n",
      "2020-02-04 02:10:19,189 INFO sqlalchemy.engine.base.Engine COMMIT\n"
     ]
    }
   ],
   "source": [
    "# /!\\ WRITE MODEL IN DB /!\\\n",
    "Base.metadata.create_all(engine)"
   ]
  },
  {
   "cell_type": "code",
   "execution_count": null,
   "metadata": {},
   "outputs": [],
   "source": []
  },
  {
   "cell_type": "code",
   "execution_count": 173,
   "metadata": {},
   "outputs": [
    {
     "data": {
      "text/plain": [
       "True"
      ]
     },
     "execution_count": 173,
     "metadata": {},
     "output_type": "execute_result"
    }
   ],
   "source": []
  },
  {
   "cell_type": "code",
   "execution_count": null,
   "metadata": {},
   "outputs": [],
   "source": []
  },
  {
   "cell_type": "code",
   "execution_count": 153,
   "metadata": {
    "scrolled": false
   },
   "outputs": [
    {
     "name": "stdout",
     "output_type": "stream",
     "text": [
      "2020-02-04 02:10:19,221 INFO sqlalchemy.engine.base.Engine BEGIN (implicit)\n",
      "2020-02-04 02:10:19,224 INFO sqlalchemy.engine.base.Engine INSERT INTO teams (id, name, city) VALUES (%(id)s, %(name)s, %(city)s)\n",
      "2020-02-04 02:10:19,226 INFO sqlalchemy.engine.base.Engine ({'city': 'Paris', 'id': 1, 'name': 'PSG'}, {'city': 'Marseille', 'id': 2, 'name': 'OM'}, {'city': 'Lyon', 'id': 3, 'name': 'OL'}, {'city': 'Lille', 'id': 4, 'name': 'LOSC'})\n",
      "2020-02-04 02:10:19,235 INFO sqlalchemy.engine.base.Engine COMMIT\n"
     ]
    }
   ],
   "source": [
    "TEAMS = [\n",
    "    { 'name': 'PSG', 'city': 'Paris', 'id': 1},\n",
    "    { 'name': 'OM', 'city': 'Marseille', 'id': 2},\n",
    "    { 'name': 'OL', 'city': 'Lyon', 'id': 3},\n",
    "    { 'name': 'LOSC', 'city': 'Lille', 'id': 4},\n",
    "]\n",
    "populate(TeamModel, TEAMS)"
   ]
  },
  {
   "cell_type": "code",
   "execution_count": 154,
   "metadata": {
    "scrolled": true
   },
   "outputs": [
    {
     "name": "stdout",
     "output_type": "stream",
     "text": [
      "2020-02-04 02:10:19,262 INFO sqlalchemy.engine.base.Engine BEGIN (implicit)\n",
      "2020-02-04 02:10:19,265 INFO sqlalchemy.engine.base.Engine INSERT INTO players (team_id, name, position) VALUES (%(team_id)s, %(name)s, %(position)s) RETURNING players.id\n",
      "2020-02-04 02:10:19,267 INFO sqlalchemy.engine.base.Engine {'position': '9', 'team_id': '1', 'name': 'Mbappe'}\n",
      "2020-02-04 02:10:19,274 INFO sqlalchemy.engine.base.Engine INSERT INTO players (team_id, name, position) VALUES (%(team_id)s, %(name)s, %(position)s) RETURNING players.id\n",
      "2020-02-04 02:10:19,275 INFO sqlalchemy.engine.base.Engine {'position': '7', 'team_id': '1', 'name': 'Neymar'}\n",
      "2020-02-04 02:10:19,279 INFO sqlalchemy.engine.base.Engine INSERT INTO players (team_id, name, position) VALUES (%(team_id)s, %(name)s, %(position)s) RETURNING players.id\n",
      "2020-02-04 02:10:19,281 INFO sqlalchemy.engine.base.Engine {'position': '8', 'team_id': '3', 'name': 'Diawara'}\n",
      "2020-02-04 02:10:19,286 INFO sqlalchemy.engine.base.Engine INSERT INTO players (team_id, name, position) VALUES (%(team_id)s, %(name)s, %(position)s) RETURNING players.id\n",
      "2020-02-04 02:10:19,287 INFO sqlalchemy.engine.base.Engine {'position': '9', 'team_id': '2', 'name': 'Benedeto'}\n",
      "2020-02-04 02:10:19,291 INFO sqlalchemy.engine.base.Engine INSERT INTO players (team_id, name, position) VALUES (%(team_id)s, %(name)s, %(position)s) RETURNING players.id\n",
      "2020-02-04 02:10:19,294 INFO sqlalchemy.engine.base.Engine {'position': '7', 'team_id': '2', 'name': 'Payet'}\n",
      "2020-02-04 02:10:19,298 INFO sqlalchemy.engine.base.Engine INSERT INTO players (team_id, name, position) VALUES (%(team_id)s, %(name)s, %(position)s) RETURNING players.id\n",
      "2020-02-04 02:10:19,300 INFO sqlalchemy.engine.base.Engine {'position': '10', 'team_id': '4', 'name': 'Pepe'}\n",
      "2020-02-04 02:10:19,304 INFO sqlalchemy.engine.base.Engine COMMIT\n"
     ]
    }
   ],
   "source": [
    "PLAYERS = [\n",
    "    {'name':'Mbappe', 'position': '9', 'team_id': '1'},\n",
    "    {'name':'Neymar', 'position': '7', 'team_id': '1'},\n",
    "    {'name':'Diawara', 'position': '8', 'team_id': '3'},\n",
    "    {'name':'Benedeto', 'position': '9', 'team_id': '2'},\n",
    "    {'name':'Payet', 'position': '7', 'team_id': '2'},\n",
    "    {'name':'Pepe', 'position': '10', 'team_id': '4'},\n",
    "]\n",
    "populate(PlayerModel, PLAYERS)"
   ]
  },
  {
   "cell_type": "code",
   "execution_count": 155,
   "metadata": {},
   "outputs": [
    {
     "name": "stdout",
     "output_type": "stream",
     "text": [
      "2020-02-04 02:10:19,324 INFO sqlalchemy.engine.base.Engine BEGIN (implicit)\n",
      "2020-02-04 02:10:19,327 INFO sqlalchemy.engine.base.Engine INSERT INTO \"left\" (id, name) VALUES (%(id)s, %(name)s)\n",
      "2020-02-04 02:10:19,330 INFO sqlalchemy.engine.base.Engine ({'id': 1, 'name': 'x'}, {'id': 2, 'name': 'y'})\n",
      "2020-02-04 02:10:19,337 INFO sqlalchemy.engine.base.Engine COMMIT\n"
     ]
    }
   ],
   "source": [
    "populate(Parent, [{'id':1, 'name': 'x'}, {'id':2, 'name': 'y'}])"
   ]
  },
  {
   "cell_type": "code",
   "execution_count": 156,
   "metadata": {},
   "outputs": [
    {
     "name": "stdout",
     "output_type": "stream",
     "text": [
      "2020-02-04 02:10:19,354 INFO sqlalchemy.engine.base.Engine BEGIN (implicit)\n",
      "2020-02-04 02:10:19,358 INFO sqlalchemy.engine.base.Engine INSERT INTO \"right\" (id) VALUES (%(id)s)\n",
      "2020-02-04 02:10:19,359 INFO sqlalchemy.engine.base.Engine ({'id': 'FR'}, {'id': 'ES'}, {'id': 'IT'}, {'id': 'EN'})\n",
      "2020-02-04 02:10:19,369 INFO sqlalchemy.engine.base.Engine COMMIT\n"
     ]
    }
   ],
   "source": [
    "populate(Child, [\n",
    "    {'id': 'FR',}, {'id': 'ES'}, {'id': 'IT'},{'id': 'EN'}\n",
    "])"
   ]
  },
  {
   "cell_type": "code",
   "execution_count": 157,
   "metadata": {},
   "outputs": [
    {
     "name": "stdout",
     "output_type": "stream",
     "text": [
      "2020-02-04 02:10:19,388 INFO sqlalchemy.engine.base.Engine BEGIN (implicit)\n",
      "2020-02-04 02:10:19,392 INFO sqlalchemy.engine.base.Engine SELECT \"left\".id AS left_id, \"left\".name AS left_name \n",
      "FROM \"left\" \n",
      "WHERE \"left\".id = %(id_1)s \n",
      " LIMIT %(param_1)s\n",
      "2020-02-04 02:10:19,393 INFO sqlalchemy.engine.base.Engine {'id_1': 1, 'param_1': 1}\n"
     ]
    }
   ],
   "source": [
    "p = s.query(Parent).filter_by(id=1).first()"
   ]
  },
  {
   "cell_type": "code",
   "execution_count": 158,
   "metadata": {},
   "outputs": [
    {
     "name": "stdout",
     "output_type": "stream",
     "text": [
      "2020-02-04 02:10:19,411 INFO sqlalchemy.engine.base.Engine SELECT \"right\".id AS right_id \n",
      "FROM \"right\", association \n",
      "WHERE %(param_1)s = association.left_id AND \"right\".id = association.right_id\n",
      "2020-02-04 02:10:19,414 INFO sqlalchemy.engine.base.Engine {'param_1': 1}\n"
     ]
    },
    {
     "data": {
      "text/plain": [
       "[]"
      ]
     },
     "execution_count": 158,
     "metadata": {},
     "output_type": "execute_result"
    }
   ],
   "source": [
    "p.children"
   ]
  },
  {
   "cell_type": "code",
   "execution_count": 159,
   "metadata": {},
   "outputs": [
    {
     "name": "stdout",
     "output_type": "stream",
     "text": [
      "2020-02-04 02:10:19,441 INFO sqlalchemy.engine.base.Engine SELECT \"right\".id AS right_id \n",
      "FROM \"right\" \n",
      "WHERE \"right\".id = %(id_1)s \n",
      " LIMIT %(param_1)s\n",
      "2020-02-04 02:10:19,443 INFO sqlalchemy.engine.base.Engine {'id_1': 'ES', 'param_1': 1}\n"
     ]
    }
   ],
   "source": [
    "p.children.append(s.query(Child).filter_by(id='ES').first())"
   ]
  },
  {
   "cell_type": "code",
   "execution_count": 160,
   "metadata": {},
   "outputs": [],
   "source": [
    "s.add(p)"
   ]
  },
  {
   "cell_type": "code",
   "execution_count": 161,
   "metadata": {},
   "outputs": [
    {
     "name": "stdout",
     "output_type": "stream",
     "text": [
      "2020-02-04 02:10:19,476 INFO sqlalchemy.engine.base.Engine INSERT INTO association (left_id, right_id) VALUES (%(left_id)s, %(right_id)s)\n",
      "2020-02-04 02:10:19,480 INFO sqlalchemy.engine.base.Engine {'left_id': 1, 'right_id': u'ES'}\n",
      "2020-02-04 02:10:19,488 INFO sqlalchemy.engine.base.Engine COMMIT\n"
     ]
    }
   ],
   "source": [
    "s.commit()"
   ]
  },
  {
   "cell_type": "code",
   "execution_count": 171,
   "metadata": {},
   "outputs": [],
   "source": [
    "# multi extract dict \n",
    "\n",
    "o = {\n",
    "    'a':1,\n",
    "    'b':2,\n",
    "    'c':3,\n",
    "}\n",
    "\n",
    "a, b, c = map(o.get, ['a', 'b', 'd'])"
   ]
  }
 ],
 "metadata": {
  "kernelspec": {
   "display_name": "Python 3",
   "language": "python",
   "name": "python3"
  },
  "language_info": {
   "codemirror_mode": {
    "name": "ipython",
    "version": 3
   },
   "file_extension": ".py",
   "mimetype": "text/x-python",
   "name": "python",
   "nbconvert_exporter": "python",
   "pygments_lexer": "ipython3",
   "version": "3.7.3"
  }
 },
 "nbformat": 4,
 "nbformat_minor": 2
}
