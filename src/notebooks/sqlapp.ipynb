{
 "cells": [
  {
   "cell_type": "code",
   "execution_count": 1,
   "metadata": {},
   "outputs": [],
   "source": [
    "from sqlalchemy import create_engine\n",
    "from sqlalchemy import Column, Integer, String, Text, DateTime, Float, Boolean, ForeignKey, Table\n",
    "from sqlalchemy.orm import relationship\n",
    "from sqlalchemy.orm import sessionmaker\n",
    "from sqlalchemy.ext.declarative import declarative_base"
   ]
  },
  {
   "cell_type": "code",
   "execution_count": 2,
   "metadata": {},
   "outputs": [],
   "source": [
    "DB_URI = 'postgresql://postgres@localhost:5532/sqla'\n",
    "engine = create_engine(DB_URI, echo=True)\n",
    "Session = sessionmaker(bind=engine)\n",
    "s = Session()"
   ]
  },
  {
   "cell_type": "code",
   "execution_count": 15,
   "metadata": {},
   "outputs": [],
   "source": [
    "# /!\\ DROP MODEL IN DB /!\\\n",
    "# Base.metadata.drop_all(bind=engine)"
   ]
  },
  {
   "cell_type": "code",
   "execution_count": 16,
   "metadata": {},
   "outputs": [],
   "source": [
    "Base = declarative_base()"
   ]
  },
  {
   "cell_type": "code",
   "execution_count": 17,
   "metadata": {},
   "outputs": [],
   "source": [
    "DB_URI = 'postgresql://postgres@localhost:5532/sqla'\n",
    "engine = create_engine(DB_URI, echo=True)\n",
    "Session = sessionmaker(bind=engine)\n",
    "s = Session()"
   ]
  },
  {
   "cell_type": "code",
   "execution_count": 18,
   "metadata": {},
   "outputs": [],
   "source": [
    "def populate(model, rows):\n",
    "    s.add_all([model(**row) for row in rows])\n",
    "    s.commit()"
   ]
  },
  {
   "cell_type": "code",
   "execution_count": 19,
   "metadata": {},
   "outputs": [],
   "source": [
    "def create(model):\n",
    "    s.add(model)\n",
    "    s.commit()"
   ]
  },
  {
   "cell_type": "code",
   "execution_count": 20,
   "metadata": {},
   "outputs": [],
   "source": [
    "\"\"\"\n",
    "A basic Many to One Relationship\n",
    "\"\"\"\n",
    "\n",
    "class PlayerModel(Base):\n",
    "    \"\"\"Data model for players.\"\"\"\n",
    "    __tablename__ = \"players\"\n",
    "\n",
    "    id = Column(Integer,\n",
    "                primary_key=True,\n",
    "                nullable=False)\n",
    "    team_id = Column(Integer,\n",
    "                     ForeignKey('teams.id'),\n",
    "                     nullable=False)\n",
    "    name = Column(String(100),\n",
    "                  nullable=False)\n",
    "    position = Column(String(100),\n",
    "                      nullable=False)\n",
    "\n",
    "    # Relationships\n",
    "    team = relationship(\"TeamModel\", backref=\"players\")\n",
    "    \n",
    "    def __repr__(self):\n",
    "        return '<Person model {}>'.format(self.id)\n",
    "\n",
    "\n",
    "class TeamModel(Base):\n",
    "    \"\"\"Data model for people.\"\"\"\n",
    "    __tablename__ = \"teams\"\n",
    "\n",
    "    id = Column(Integer,\n",
    "                primary_key=True,\n",
    "                nullable=False,\n",
    "    )\n",
    "    name = Column(String(100),\n",
    "                  nullable=False)\n",
    "    city = Column(String(100),\n",
    "                  nullable=False)\n",
    "\n",
    "    def __repr__(self):\n",
    "        return '<Team model {}>'.format(self.id)"
   ]
  },
  {
   "cell_type": "code",
   "execution_count": 21,
   "metadata": {},
   "outputs": [],
   "source": [
    "# PlayerModel.__table__.drop(engine)\n",
    "# TeamModel.__table__.drop(engine)"
   ]
  },
  {
   "cell_type": "code",
   "execution_count": 22,
   "metadata": {},
   "outputs": [],
   "source": [
    "\n",
    "\n",
    "association_table = Table('association', Base.metadata,\n",
    "    Column('left_id', Integer, ForeignKey('left.id')),\n",
    "    Column('right_id', String, ForeignKey('right.id'))\n",
    ")\n",
    "\n",
    "\n",
    "class Parent(Base):\n",
    "    __tablename__ = 'left'\n",
    "    id = Column(Integer, primary_key=True)\n",
    "    name = Column(String, nullable=False)\n",
    "    children = relationship(\n",
    "        \"Child\",\n",
    "        secondary=association_table,\n",
    "        back_populates=\"parents\")\n",
    "\n",
    "\n",
    "class Child(Base):\n",
    "    __tablename__ = 'right'\n",
    "    id = Column(String, primary_key=True, )\n",
    "    parents = relationship(\n",
    "        \"Parent\",\n",
    "        secondary=association_table,\n",
    "        back_populates=\"children\")"
   ]
  },
  {
   "cell_type": "code",
   "execution_count": 23,
   "metadata": {},
   "outputs": [],
   "source": [
    "# association_table.drop(engine)\n",
    "# Child.__table__.drop(engine)\n",
    "# Parent.__table__.drop(engine)"
   ]
  },
  {
   "cell_type": "code",
   "execution_count": 24,
   "metadata": {},
   "outputs": [
    {
     "name": "stdout",
     "output_type": "stream",
     "text": [
      "2020-02-04 15:03:55,782 INFO sqlalchemy.engine.base.Engine select version()\n",
      "2020-02-04 15:03:55,784 INFO sqlalchemy.engine.base.Engine {}\n",
      "2020-02-04 15:03:55,790 INFO sqlalchemy.engine.base.Engine select current_schema()\n",
      "2020-02-04 15:03:55,791 INFO sqlalchemy.engine.base.Engine {}\n",
      "2020-02-04 15:03:55,797 INFO sqlalchemy.engine.base.Engine SELECT CAST('test plain returns' AS VARCHAR(60)) AS anon_1\n",
      "2020-02-04 15:03:55,799 INFO sqlalchemy.engine.base.Engine {}\n",
      "2020-02-04 15:03:55,806 INFO sqlalchemy.engine.base.Engine SELECT CAST('test unicode returns' AS VARCHAR(60)) AS anon_1\n",
      "2020-02-04 15:03:55,808 INFO sqlalchemy.engine.base.Engine {}\n",
      "2020-02-04 15:03:55,822 INFO sqlalchemy.engine.base.Engine show standard_conforming_strings\n",
      "2020-02-04 15:03:55,824 INFO sqlalchemy.engine.base.Engine {}\n",
      "2020-02-04 15:03:55,867 INFO sqlalchemy.engine.base.Engine select relname from pg_class c join pg_namespace n on n.oid=c.relnamespace where pg_catalog.pg_table_is_visible(c.oid) and relname=%(name)s\n",
      "2020-02-04 15:03:55,869 INFO sqlalchemy.engine.base.Engine {'name': u'players'}\n",
      "2020-02-04 15:03:55,877 INFO sqlalchemy.engine.base.Engine select relname from pg_class c join pg_namespace n on n.oid=c.relnamespace where pg_catalog.pg_table_is_visible(c.oid) and relname=%(name)s\n",
      "2020-02-04 15:03:55,879 INFO sqlalchemy.engine.base.Engine {'name': u'left'}\n",
      "2020-02-04 15:03:55,891 INFO sqlalchemy.engine.base.Engine select relname from pg_class c join pg_namespace n on n.oid=c.relnamespace where pg_catalog.pg_table_is_visible(c.oid) and relname=%(name)s\n",
      "2020-02-04 15:03:55,893 INFO sqlalchemy.engine.base.Engine {'name': u'right'}\n",
      "2020-02-04 15:03:55,903 INFO sqlalchemy.engine.base.Engine select relname from pg_class c join pg_namespace n on n.oid=c.relnamespace where pg_catalog.pg_table_is_visible(c.oid) and relname=%(name)s\n",
      "2020-02-04 15:03:55,904 INFO sqlalchemy.engine.base.Engine {'name': u'association'}\n",
      "2020-02-04 15:03:55,914 INFO sqlalchemy.engine.base.Engine select relname from pg_class c join pg_namespace n on n.oid=c.relnamespace where pg_catalog.pg_table_is_visible(c.oid) and relname=%(name)s\n",
      "2020-02-04 15:03:55,917 INFO sqlalchemy.engine.base.Engine {'name': u'teams'}\n",
      "2020-02-04 15:03:55,933 INFO sqlalchemy.engine.base.Engine \n",
      "CREATE TABLE \"left\" (\n",
      "\tid SERIAL NOT NULL, \n",
      "\tname VARCHAR NOT NULL, \n",
      "\tPRIMARY KEY (id)\n",
      ")\n",
      "\n",
      "\n",
      "2020-02-04 15:03:55,935 INFO sqlalchemy.engine.base.Engine {}\n",
      "2020-02-04 15:03:55,963 INFO sqlalchemy.engine.base.Engine COMMIT\n",
      "2020-02-04 15:03:55,978 INFO sqlalchemy.engine.base.Engine \n",
      "CREATE TABLE \"right\" (\n",
      "\tid VARCHAR NOT NULL, \n",
      "\tPRIMARY KEY (id)\n",
      ")\n",
      "\n",
      "\n",
      "2020-02-04 15:03:55,980 INFO sqlalchemy.engine.base.Engine {}\n",
      "2020-02-04 15:03:56,035 INFO sqlalchemy.engine.base.Engine COMMIT\n",
      "2020-02-04 15:03:56,050 INFO sqlalchemy.engine.base.Engine \n",
      "CREATE TABLE teams (\n",
      "\tid SERIAL NOT NULL, \n",
      "\tname VARCHAR(100) NOT NULL, \n",
      "\tcity VARCHAR(100) NOT NULL, \n",
      "\tPRIMARY KEY (id)\n",
      ")\n",
      "\n",
      "\n",
      "2020-02-04 15:03:56,052 INFO sqlalchemy.engine.base.Engine {}\n",
      "2020-02-04 15:03:56,063 INFO sqlalchemy.engine.base.Engine COMMIT\n",
      "2020-02-04 15:03:56,072 INFO sqlalchemy.engine.base.Engine \n",
      "CREATE TABLE players (\n",
      "\tid SERIAL NOT NULL, \n",
      "\tteam_id INTEGER NOT NULL, \n",
      "\tname VARCHAR(100) NOT NULL, \n",
      "\tposition VARCHAR(100) NOT NULL, \n",
      "\tPRIMARY KEY (id), \n",
      "\tFOREIGN KEY(team_id) REFERENCES teams (id)\n",
      ")\n",
      "\n",
      "\n",
      "2020-02-04 15:03:56,073 INFO sqlalchemy.engine.base.Engine {}\n",
      "2020-02-04 15:03:56,093 INFO sqlalchemy.engine.base.Engine COMMIT\n",
      "2020-02-04 15:03:56,104 INFO sqlalchemy.engine.base.Engine \n",
      "CREATE TABLE association (\n",
      "\tleft_id INTEGER, \n",
      "\tright_id VARCHAR, \n",
      "\tFOREIGN KEY(left_id) REFERENCES \"left\" (id), \n",
      "\tFOREIGN KEY(right_id) REFERENCES \"right\" (id)\n",
      ")\n",
      "\n",
      "\n",
      "2020-02-04 15:03:56,106 INFO sqlalchemy.engine.base.Engine {}\n",
      "2020-02-04 15:03:56,124 INFO sqlalchemy.engine.base.Engine COMMIT\n"
     ]
    }
   ],
   "source": [
    "# /!\\ WRITE MODEL IN DB /!\\\n",
    "Base.metadata.create_all(engine)"
   ]
  },
  {
   "cell_type": "code",
   "execution_count": 25,
   "metadata": {},
   "outputs": [
    {
     "name": "stdout",
     "output_type": "stream",
     "text": [
      "2020-02-04 15:03:56,153 INFO sqlalchemy.engine.base.Engine BEGIN (implicit)\n",
      "2020-02-04 15:03:56,155 INFO sqlalchemy.engine.base.Engine INSERT INTO teams (id, name, city) VALUES (%(id)s, %(name)s, %(city)s)\n",
      "2020-02-04 15:03:56,156 INFO sqlalchemy.engine.base.Engine ({'city': 'Paris', 'id': 1, 'name': 'PSG'}, {'city': 'Marseille', 'id': 2, 'name': 'OM'}, {'city': 'Lyon', 'id': 3, 'name': 'OL'}, {'city': 'Lille', 'id': 4, 'name': 'LOSC'})\n",
      "2020-02-04 15:03:56,184 INFO sqlalchemy.engine.base.Engine COMMIT\n"
     ]
    }
   ],
   "source": [
    "TEAMS = [\n",
    "    { 'name': 'PSG', 'city': 'Paris', 'id': 1},\n",
    "    { 'name': 'OM', 'city': 'Marseille', 'id': 2},\n",
    "    { 'name': 'OL', 'city': 'Lyon', 'id': 3},\n",
    "    { 'name': 'LOSC', 'city': 'Lille', 'id': 4},\n",
    "]\n",
    "populate(TeamModel, TEAMS)"
   ]
  },
  {
   "cell_type": "code",
   "execution_count": 26,
   "metadata": {},
   "outputs": [
    {
     "name": "stdout",
     "output_type": "stream",
     "text": [
      "2020-02-04 15:03:56,573 INFO sqlalchemy.engine.base.Engine BEGIN (implicit)\n",
      "2020-02-04 15:03:56,575 INFO sqlalchemy.engine.base.Engine INSERT INTO players (team_id, name, position) VALUES (%(team_id)s, %(name)s, %(position)s) RETURNING players.id\n",
      "2020-02-04 15:03:56,577 INFO sqlalchemy.engine.base.Engine {'position': '9', 'team_id': '1', 'name': 'Mbappe'}\n",
      "2020-02-04 15:03:56,587 INFO sqlalchemy.engine.base.Engine INSERT INTO players (team_id, name, position) VALUES (%(team_id)s, %(name)s, %(position)s) RETURNING players.id\n",
      "2020-02-04 15:03:56,588 INFO sqlalchemy.engine.base.Engine {'position': '7', 'team_id': '1', 'name': 'Neymar'}\n",
      "2020-02-04 15:03:56,592 INFO sqlalchemy.engine.base.Engine INSERT INTO players (team_id, name, position) VALUES (%(team_id)s, %(name)s, %(position)s) RETURNING players.id\n",
      "2020-02-04 15:03:56,594 INFO sqlalchemy.engine.base.Engine {'position': '8', 'team_id': '3', 'name': 'Diawara'}\n",
      "2020-02-04 15:03:56,598 INFO sqlalchemy.engine.base.Engine INSERT INTO players (team_id, name, position) VALUES (%(team_id)s, %(name)s, %(position)s) RETURNING players.id\n",
      "2020-02-04 15:03:56,599 INFO sqlalchemy.engine.base.Engine {'position': '9', 'team_id': '2', 'name': 'Benedeto'}\n",
      "2020-02-04 15:03:56,603 INFO sqlalchemy.engine.base.Engine INSERT INTO players (team_id, name, position) VALUES (%(team_id)s, %(name)s, %(position)s) RETURNING players.id\n",
      "2020-02-04 15:03:56,604 INFO sqlalchemy.engine.base.Engine {'position': '7', 'team_id': '2', 'name': 'Payet'}\n",
      "2020-02-04 15:03:56,608 INFO sqlalchemy.engine.base.Engine INSERT INTO players (team_id, name, position) VALUES (%(team_id)s, %(name)s, %(position)s) RETURNING players.id\n",
      "2020-02-04 15:03:56,609 INFO sqlalchemy.engine.base.Engine {'position': '10', 'team_id': '4', 'name': 'Pepe'}\n",
      "2020-02-04 15:03:56,614 INFO sqlalchemy.engine.base.Engine COMMIT\n"
     ]
    }
   ],
   "source": [
    "PLAYERS = [\n",
    "    {'name':'Mbappe', 'position': '9', 'team_id': '1'},\n",
    "    {'name':'Neymar', 'position': '7', 'team_id': '1'},\n",
    "    {'name':'Diawara', 'position': '8', 'team_id': '3'},\n",
    "    {'name':'Benedeto', 'position': '9', 'team_id': '2'},\n",
    "    {'name':'Payet', 'position': '7', 'team_id': '2'},\n",
    "    {'name':'Pepe', 'position': '10', 'team_id': '4'},\n",
    "]\n",
    "populate(PlayerModel, PLAYERS)"
   ]
  },
  {
   "cell_type": "code",
   "execution_count": 27,
   "metadata": {},
   "outputs": [
    {
     "name": "stdout",
     "output_type": "stream",
     "text": [
      "2020-02-04 15:03:56,884 INFO sqlalchemy.engine.base.Engine BEGIN (implicit)\n",
      "2020-02-04 15:03:56,886 INFO sqlalchemy.engine.base.Engine INSERT INTO \"left\" (id, name) VALUES (%(id)s, %(name)s)\n",
      "2020-02-04 15:03:56,888 INFO sqlalchemy.engine.base.Engine ({'id': 1, 'name': 'x'}, {'id': 2, 'name': 'y'})\n",
      "2020-02-04 15:03:56,896 INFO sqlalchemy.engine.base.Engine COMMIT\n",
      "2020-02-04 15:03:56,901 INFO sqlalchemy.engine.base.Engine BEGIN (implicit)\n",
      "2020-02-04 15:03:56,903 INFO sqlalchemy.engine.base.Engine INSERT INTO \"right\" (id) VALUES (%(id)s)\n",
      "2020-02-04 15:03:56,904 INFO sqlalchemy.engine.base.Engine ({'id': 'FR'}, {'id': 'ES'}, {'id': 'IT'}, {'id': 'EN'})\n",
      "2020-02-04 15:03:56,921 INFO sqlalchemy.engine.base.Engine COMMIT\n"
     ]
    }
   ],
   "source": [
    "populate(Parent, [{'id':1, 'name': 'x'}, {'id':2, 'name': 'y'}])\n",
    "populate(Child, [\n",
    "    {'id': 'FR',}, {'id': 'ES'}, {'id': 'IT'},{'id': 'EN'}\n",
    "])"
   ]
  },
  {
   "cell_type": "code",
   "execution_count": 28,
   "metadata": {},
   "outputs": [
    {
     "name": "stdout",
     "output_type": "stream",
     "text": [
      "2020-02-04 15:03:57,280 INFO sqlalchemy.engine.base.Engine BEGIN (implicit)\n",
      "2020-02-04 15:03:57,283 INFO sqlalchemy.engine.base.Engine SELECT \"left\".id AS left_id, \"left\".name AS left_name \n",
      "FROM \"left\" \n",
      "WHERE \"left\".id = %(id_1)s \n",
      " LIMIT %(param_1)s\n",
      "2020-02-04 15:03:57,285 INFO sqlalchemy.engine.base.Engine {'id_1': 1, 'param_1': 1}\n"
     ]
    }
   ],
   "source": [
    "p = s.query(Parent).filter_by(id=1).first()"
   ]
  },
  {
   "cell_type": "code",
   "execution_count": 29,
   "metadata": {},
   "outputs": [
    {
     "name": "stdout",
     "output_type": "stream",
     "text": [
      "2020-02-04 15:03:57,642 INFO sqlalchemy.engine.base.Engine SELECT \"right\".id AS right_id \n",
      "FROM \"right\", association \n",
      "WHERE %(param_1)s = association.left_id AND \"right\".id = association.right_id\n",
      "2020-02-04 15:03:57,644 INFO sqlalchemy.engine.base.Engine {'param_1': 1}\n"
     ]
    },
    {
     "data": {
      "text/plain": [
       "[]"
      ]
     },
     "execution_count": 29,
     "metadata": {},
     "output_type": "execute_result"
    }
   ],
   "source": [
    "p.children"
   ]
  },
  {
   "cell_type": "code",
   "execution_count": 30,
   "metadata": {},
   "outputs": [
    {
     "name": "stdout",
     "output_type": "stream",
     "text": [
      "2020-02-04 15:03:58,025 INFO sqlalchemy.engine.base.Engine SELECT \"right\".id AS right_id \n",
      "FROM \"right\" \n",
      "WHERE \"right\".id = %(id_1)s \n",
      " LIMIT %(param_1)s\n",
      "2020-02-04 15:03:58,026 INFO sqlalchemy.engine.base.Engine {'id_1': 'ES', 'param_1': 1}\n"
     ]
    }
   ],
   "source": [
    "p.children.append(s.query(Child).filter_by(id='ES').first())"
   ]
  },
  {
   "cell_type": "code",
   "execution_count": 31,
   "metadata": {},
   "outputs": [
    {
     "name": "stdout",
     "output_type": "stream",
     "text": [
      "2020-02-04 15:03:58,323 INFO sqlalchemy.engine.base.Engine INSERT INTO association (left_id, right_id) VALUES (%(left_id)s, %(right_id)s)\n",
      "2020-02-04 15:03:58,325 INFO sqlalchemy.engine.base.Engine {'left_id': 1, 'right_id': u'ES'}\n",
      "2020-02-04 15:03:58,330 INFO sqlalchemy.engine.base.Engine COMMIT\n"
     ]
    }
   ],
   "source": [
    "s.add(p)\n",
    "s.commit()"
   ]
  },
  {
   "cell_type": "code",
   "execution_count": null,
   "metadata": {},
   "outputs": [],
   "source": []
  }
 ],
 "metadata": {
  "kernelspec": {
   "display_name": "Python 2",
   "language": "python",
   "name": "python2"
  },
  "language_info": {
   "codemirror_mode": {
    "name": "ipython",
    "version": 2
   },
   "file_extension": ".py",
   "mimetype": "text/x-python",
   "name": "python",
   "nbconvert_exporter": "python",
   "pygments_lexer": "ipython2",
   "version": "2.7.10"
  }
 },
 "nbformat": 4,
 "nbformat_minor": 2
}
